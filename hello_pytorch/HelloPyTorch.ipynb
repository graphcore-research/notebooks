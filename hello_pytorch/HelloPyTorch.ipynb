{
 "cells": [
  {
   "cell_type": "code",
   "execution_count": null,
   "metadata": {
    "tags": []
   },
   "outputs": [],
   "source": [
    "%pip install numpy\n",
    "import torch\n",
    "from torch import Tensor, nn\n",
    "import poptorch"
   ]
  },
  {
   "cell_type": "code",
   "execution_count": null,
   "metadata": {
    "tags": []
   },
   "outputs": [],
   "source": [
    "input = torch.randn(300, 100)\n",
    "expected = nn.Linear(100, 200)(input).detach()\n",
    "\n",
    "class Model(nn.Module):\n",
    "    def __init__(self):\n",
    "        super().__init__()\n",
    "        self.predict = nn.Linear(100, 200)\n",
    "\n",
    "    def forward(self, x: Tensor, y: Tensor) -> Tensor:\n",
    "        return nn.functional.mse_loss(self.predict(x), y)\n",
    "\n",
    "model = Model()\n",
    "train_step = poptorch.trainingModel(model, optimizer=torch.optim.Adam(model.parameters(), 0.1))\n",
    "for _ in range(10):\n",
    "    print(float(train_step(input, expected)))"
   ]
  }
 ],
 "metadata": {
  "kernelspec": {
   "display_name": "Python 3",
   "language": "python",
   "name": "python3"
  },
  "language_info": {
   "codemirror_mode": {
    "name": "ipython",
    "version": 3
   },
   "file_extension": ".py",
   "mimetype": "text/x-python",
   "name": "python",
   "nbconvert_exporter": "python",
   "pygments_lexer": "ipython3",
   "version": "3.8.10"
  }
 },
 "nbformat": 4,
 "nbformat_minor": 4
}
