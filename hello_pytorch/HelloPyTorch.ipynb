{
 "cells": [
  {
   "cell_type": "code",
   "execution_count": 1,
   "metadata": {
    "tags": []
   },
   "outputs": [],
   "source": [
    "import torch\n",
    "from torch import Tensor, nn\n",
    "import poptorch"
   ]
  },
  {
   "cell_type": "code",
   "execution_count": 6,
   "metadata": {
    "tags": []
   },
   "outputs": [
    {
     "name": "stderr",
     "output_type": "stream",
     "text": [
      "Graph compilation: 100%|██████████| 100/100 [00:11<00:00]"
     ]
    },
    {
     "name": "stdout",
     "output_type": "stream",
     "text": [
      "0.6685457229614258\n",
      "0.5165913701057434\n",
      "0.36892610788345337\n",
      "0.25999441742897034\n",
      "0.24179884791374207\n",
      "0.23401471972465515\n",
      "0.19904601573944092\n",
      "0.16008532047271729\n",
      "0.13779832422733307\n",
      "0.12857556343078613\n"
     ]
    },
    {
     "name": "stderr",
     "output_type": "stream",
     "text": [
      "\n"
     ]
    }
   ],
   "source": [
    "input = torch.randn(300, 100)\n",
    "expected = nn.Linear(100, 200)(input).detach()\n",
    "\n",
    "class Model(nn.Module):\n",
    "    def __init__(self):\n",
    "        super().__init__()\n",
    "        self.predict = nn.Linear(100, 200)\n",
    "\n",
    "    def forward(self, x: Tensor, y: Tensor) -> Tensor:\n",
    "        return nn.functional.mse_loss(self.predict(x), y)\n",
    "\n",
    "model = Model()\n",
    "train_step = poptorch.trainingModel(model, optimizer=torch.optim.Adam(model.parameters(), 0.1))\n",
    "for _ in range(10):\n",
    "    print(float(train_step(input, expected)))"
   ]
  }
 ],
 "metadata": {
  "kernelspec": {
   "display_name": "Python 3 (ipykernel)",
   "language": "python",
   "name": "python3"
  },
  "language_info": {
   "codemirror_mode": {
    "name": "ipython",
    "version": 3
   },
   "file_extension": ".py",
   "mimetype": "text/x-python",
   "name": "python",
   "nbconvert_exporter": "python",
   "pygments_lexer": "ipython3",
   "version": "3.8.10"
  }
 },
 "nbformat": 4,
 "nbformat_minor": 4
}
